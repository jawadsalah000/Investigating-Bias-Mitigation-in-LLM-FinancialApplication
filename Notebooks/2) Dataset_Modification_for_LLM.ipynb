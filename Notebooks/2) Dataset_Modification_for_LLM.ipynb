{
 "cells": [
  {
   "cell_type": "markdown",
   "id": "d67d666e-8b1f-4f19-b29b-daca39e52ae1",
   "metadata": {},
   "source": [
    "# Dataset Modification and Synthetic Input Preparation for LLM-Based Bias Evaluation"
   ]
  },
  {
   "cell_type": "code",
   "execution_count": 5,
   "id": "4e1732ee-1917-4d47-b44a-a5a691ba9be1",
   "metadata": {},
   "outputs": [
    {
     "name": "stdout",
     "output_type": "stream",
     "text": [
      "Requirement already satisfied: pandas in c:\\users\\lenovo x390\\anaconda3\\lib\\site-packages (2.2.2)\n",
      "Requirement already satisfied: scikit-learn in c:\\users\\lenovo x390\\anaconda3\\lib\\site-packages (1.4.2)\n",
      "Requirement already satisfied: openai in c:\\users\\lenovo x390\\anaconda3\\lib\\site-packages (1.90.0)\n",
      "Requirement already satisfied: numpy>=1.26.0 in c:\\users\\lenovo x390\\anaconda3\\lib\\site-packages (from pandas) (1.26.4)\n",
      "Requirement already satisfied: python-dateutil>=2.8.2 in c:\\users\\lenovo x390\\anaconda3\\lib\\site-packages (from pandas) (2.9.0.post0)\n",
      "Requirement already satisfied: pytz>=2020.1 in c:\\users\\lenovo x390\\anaconda3\\lib\\site-packages (from pandas) (2024.1)\n",
      "Requirement already satisfied: tzdata>=2022.7 in c:\\users\\lenovo x390\\anaconda3\\lib\\site-packages (from pandas) (2023.3)\n",
      "Requirement already satisfied: scipy>=1.6.0 in c:\\users\\lenovo x390\\anaconda3\\lib\\site-packages (from scikit-learn) (1.13.1)\n",
      "Requirement already satisfied: joblib>=1.2.0 in c:\\users\\lenovo x390\\anaconda3\\lib\\site-packages (from scikit-learn) (1.4.2)\n",
      "Requirement already satisfied: threadpoolctl>=2.0.0 in c:\\users\\lenovo x390\\anaconda3\\lib\\site-packages (from scikit-learn) (2.2.0)\n",
      "Requirement already satisfied: anyio<5,>=3.5.0 in c:\\users\\lenovo x390\\anaconda3\\lib\\site-packages (from openai) (4.2.0)\n",
      "Requirement already satisfied: distro<2,>=1.7.0 in c:\\users\\lenovo x390\\anaconda3\\lib\\site-packages (from openai) (1.9.0)\n",
      "Requirement already satisfied: httpx<1,>=0.23.0 in c:\\users\\lenovo x390\\anaconda3\\lib\\site-packages (from openai) (0.27.0)\n",
      "Requirement already satisfied: jiter<1,>=0.4.0 in c:\\users\\lenovo x390\\anaconda3\\lib\\site-packages (from openai) (0.10.0)\n",
      "Requirement already satisfied: pydantic<3,>=1.9.0 in c:\\users\\lenovo x390\\anaconda3\\lib\\site-packages (from openai) (2.5.3)\n",
      "Requirement already satisfied: sniffio in c:\\users\\lenovo x390\\anaconda3\\lib\\site-packages (from openai) (1.3.0)\n",
      "Requirement already satisfied: tqdm>4 in c:\\users\\lenovo x390\\anaconda3\\lib\\site-packages (from openai) (4.66.4)\n",
      "Requirement already satisfied: typing-extensions<5,>=4.11 in c:\\users\\lenovo x390\\anaconda3\\lib\\site-packages (from openai) (4.11.0)\n",
      "Requirement already satisfied: idna>=2.8 in c:\\users\\lenovo x390\\anaconda3\\lib\\site-packages (from anyio<5,>=3.5.0->openai) (3.7)\n",
      "Requirement already satisfied: certifi in c:\\users\\lenovo x390\\anaconda3\\lib\\site-packages (from httpx<1,>=0.23.0->openai) (2024.8.30)\n",
      "Requirement already satisfied: httpcore==1.* in c:\\users\\lenovo x390\\anaconda3\\lib\\site-packages (from httpx<1,>=0.23.0->openai) (1.0.2)\n",
      "Requirement already satisfied: h11<0.15,>=0.13 in c:\\users\\lenovo x390\\anaconda3\\lib\\site-packages (from httpcore==1.*->httpx<1,>=0.23.0->openai) (0.14.0)\n",
      "Requirement already satisfied: annotated-types>=0.4.0 in c:\\users\\lenovo x390\\anaconda3\\lib\\site-packages (from pydantic<3,>=1.9.0->openai) (0.6.0)\n",
      "Requirement already satisfied: pydantic-core==2.14.6 in c:\\users\\lenovo x390\\anaconda3\\lib\\site-packages (from pydantic<3,>=1.9.0->openai) (2.14.6)\n",
      "Requirement already satisfied: six>=1.5 in c:\\users\\lenovo x390\\anaconda3\\lib\\site-packages (from python-dateutil>=2.8.2->pandas) (1.16.0)\n",
      "Requirement already satisfied: colorama in c:\\users\\lenovo x390\\anaconda3\\lib\\site-packages (from tqdm>4->openai) (0.4.6)\n"
     ]
    }
   ],
   "source": [
    "!pip install pandas scikit-learn openai\n",
    "import pandas as pd\n",
    "import statsmodels.api as sm\n",
    "import numpy as np\n",
    "import matplotlib.pyplot as plt\n",
    "from IPython.display import display\n",
    "import seaborn as sns\n",
    "from statsmodels.stats.proportion import proportions_ztest\n",
    "from statsmodels.stats.outliers_influence import variance_inflation_factor\n"
   ]
  },
  {
   "cell_type": "code",
   "execution_count": 41,
   "id": "5ec3b79e-b4b8-4249-8617-b1a6500ac8c3",
   "metadata": {},
   "outputs": [],
   "source": [
    "data = pd.read_csv(\"Cleaned_Georgia_Mortgage_Data.csv\", low_memory=False)"
   ]
  },
  {
   "cell_type": "markdown",
   "id": "86b1aba1-266e-4134-babb-b30a10c1e5a5",
   "metadata": {},
   "source": [
    "# Sampling and Duplicating Dataset"
   ]
  },
  {
   "cell_type": "code",
   "execution_count": 31,
   "id": "bc398099-f5e8-4d33-ae13-c68b8ca787ee",
   "metadata": {},
   "outputs": [
    {
     "data": {
      "text/html": [
       "<div>\n",
       "<style scoped>\n",
       "    .dataframe tbody tr th:only-of-type {\n",
       "        vertical-align: middle;\n",
       "    }\n",
       "\n",
       "    .dataframe tbody tr th {\n",
       "        vertical-align: top;\n",
       "    }\n",
       "\n",
       "    .dataframe thead th {\n",
       "        text-align: right;\n",
       "    }\n",
       "</style>\n",
       "<table border=\"1\" class=\"dataframe\">\n",
       "  <thead>\n",
       "    <tr style=\"text-align: right;\">\n",
       "      <th></th>\n",
       "      <th>derived_race</th>\n",
       "      <th>action_taken</th>\n",
       "      <th>loan_amount</th>\n",
       "      <th>loan_to_value_ratio</th>\n",
       "      <th>property_value</th>\n",
       "      <th>income</th>\n",
       "      <th>debt_to_income_ratio</th>\n",
       "      <th>applicant_age</th>\n",
       "    </tr>\n",
       "  </thead>\n",
       "  <tbody>\n",
       "    <tr>\n",
       "      <th>0</th>\n",
       "      <td>White</td>\n",
       "      <td>1</td>\n",
       "      <td>185000.0</td>\n",
       "      <td>95.000</td>\n",
       "      <td>195000</td>\n",
       "      <td>78.0</td>\n",
       "      <td>47.0</td>\n",
       "      <td>39.5</td>\n",
       "    </tr>\n",
       "    <tr>\n",
       "      <th>1</th>\n",
       "      <td>White</td>\n",
       "      <td>1</td>\n",
       "      <td>415000.0</td>\n",
       "      <td>95.000</td>\n",
       "      <td>435000</td>\n",
       "      <td>194.0</td>\n",
       "      <td>47.0</td>\n",
       "      <td>49.5</td>\n",
       "    </tr>\n",
       "    <tr>\n",
       "      <th>2</th>\n",
       "      <td>White</td>\n",
       "      <td>1</td>\n",
       "      <td>245000.0</td>\n",
       "      <td>99.000</td>\n",
       "      <td>255000</td>\n",
       "      <td>45.0</td>\n",
       "      <td>46.0</td>\n",
       "      <td>29.5</td>\n",
       "    </tr>\n",
       "    <tr>\n",
       "      <th>3</th>\n",
       "      <td>White</td>\n",
       "      <td>1</td>\n",
       "      <td>215000.0</td>\n",
       "      <td>81.081</td>\n",
       "      <td>255000</td>\n",
       "      <td>41.0</td>\n",
       "      <td>47.0</td>\n",
       "      <td>75.0</td>\n",
       "    </tr>\n",
       "    <tr>\n",
       "      <th>4</th>\n",
       "      <td>White</td>\n",
       "      <td>1</td>\n",
       "      <td>435000.0</td>\n",
       "      <td>80.000</td>\n",
       "      <td>545000</td>\n",
       "      <td>160.0</td>\n",
       "      <td>25.0</td>\n",
       "      <td>29.5</td>\n",
       "    </tr>\n",
       "  </tbody>\n",
       "</table>\n",
       "</div>"
      ],
      "text/plain": [
       "  derived_race  action_taken  loan_amount  loan_to_value_ratio  \\\n",
       "0        White             1     185000.0               95.000   \n",
       "1        White             1     415000.0               95.000   \n",
       "2        White             1     245000.0               99.000   \n",
       "3        White             1     215000.0               81.081   \n",
       "4        White             1     435000.0               80.000   \n",
       "\n",
       "   property_value  income  debt_to_income_ratio  applicant_age  \n",
       "0          195000    78.0                  47.0           39.5  \n",
       "1          435000   194.0                  47.0           49.5  \n",
       "2          255000    45.0                  46.0           29.5  \n",
       "3          255000    41.0                  47.0           75.0  \n",
       "4          545000   160.0                  25.0           29.5  "
      ]
     },
     "execution_count": 31,
     "metadata": {},
     "output_type": "execute_result"
    }
   ],
   "source": [
    "white_data = data[data[\"derived_race\"] == \"White\"]\n",
    "\n",
    "white_sample = white_data.sample(n=250, random_state=42)\n",
    "white_copy = white_sample.copy()\n",
    "black_copy = white_sample.copy()\n",
    "black_copy[\"derived_race\"] = \"Black or African American\"\n",
    "data_balanced = pd.concat([white_copy, black_copy], ignore_index=True)\n",
    "\n",
    "data_balanced = data_balanced.drop(columns=[\"conforming_loan_limit\", \"derived_loan_product_type\", \"derived_dwelling_category\", \"reverse_mortgage\", \"loan_purpose\", \"derived_sex\", \"loan_term\", \"occupancy_type\", \"hoepa_status\",  \"business_or_commercial_purpose\", \"index\", \"open-end_line_of_credit\"])\n",
    "data_balanced.head()"
   ]
  },
  {
   "cell_type": "code",
   "execution_count": 33,
   "id": "75e8a544-6a6b-4555-9565-19ab1d8e0a9e",
   "metadata": {},
   "outputs": [
    {
     "data": {
      "text/plain": [
       "action_taken\n",
       "1    462\n",
       "3     38\n",
       "Name: count, dtype: int64"
      ]
     },
     "execution_count": 33,
     "metadata": {},
     "output_type": "execute_result"
    }
   ],
   "source": [
    "data_balanced[\"action_taken\"].value_counts()\n"
   ]
  },
  {
   "cell_type": "code",
   "execution_count": 35,
   "id": "2a49b91d-44a7-4d1f-b53b-a0c2e9ae27e0",
   "metadata": {},
   "outputs": [
    {
     "name": "stdout",
     "output_type": "stream",
     "text": [
      "\n",
      "Denial Rates per group (%):\n",
      "derived_race\n",
      "Black or African American    7.6\n",
      "White                        7.6\n",
      "Name: 3, dtype: float64\n"
     ]
    }
   ],
   "source": [
    "data_balanced[\"derived_race\"].value_counts()\n",
    "counts = data_balanced.groupby(\"derived_race\")[\"action_taken\"].value_counts(normalize=True).unstack()\n",
    "if 3 in counts.columns:\n",
    "    denial_rates = counts[3] * 100 \n",
    "    print(\"\\nDenial Rates per group (%):\")\n",
    "    print(denial_rates.round(2))\n",
    "else:\n",
    "    print(\"\\nNo denials found in dataset.\")\n"
   ]
  },
  {
   "cell_type": "code",
   "execution_count": 37,
   "id": "ffa71df2-09b7-4cf7-b26e-0e6f64ca9649",
   "metadata": {},
   "outputs": [
    {
     "name": "stdout",
     "output_type": "stream",
     "text": [
      "Average by Race:\n",
      "                           loan_amount   income  debt_to_income_ratio  \\\n",
      "derived_race                                                            \n",
      "Black or African American     306840.0  101.636                 40.76   \n",
      "White                         306840.0  101.636                 40.76   \n",
      "\n",
      "                           property_value  applicant_age  \n",
      "derived_race                                              \n",
      "Black or African American        343480.0         42.494  \n",
      "White                            343480.0         42.494  \n"
     ]
    }
   ],
   "source": [
    "cols_to_fix = [\"loan_amount\", \"income\", \"debt_to_income_ratio\", \"property_value\"]\n",
    "data_balanced[cols_to_fix] = data_balanced[cols_to_fix].apply(pd.to_numeric, errors=\"coerce\")\n",
    "averages = data_balanced.groupby(\"derived_race\")[[\"loan_amount\", \"income\", \"debt_to_income_ratio\", \"property_value\", \"applicant_age\"]].mean()\n",
    "\n",
    "print(\"Average by Race:\")\n",
    "print(averages)\n"
   ]
  },
  {
   "cell_type": "code",
   "execution_count": 39,
   "id": "e951b214-91b3-4b39-93b4-b1f7f0d6648d",
   "metadata": {},
   "outputs": [
    {
     "data": {
      "text/html": [
       "<div>\n",
       "<style scoped>\n",
       "    .dataframe tbody tr th:only-of-type {\n",
       "        vertical-align: middle;\n",
       "    }\n",
       "\n",
       "    .dataframe tbody tr th {\n",
       "        vertical-align: top;\n",
       "    }\n",
       "\n",
       "    .dataframe thead th {\n",
       "        text-align: right;\n",
       "    }\n",
       "</style>\n",
       "<table border=\"1\" class=\"dataframe\">\n",
       "  <thead>\n",
       "    <tr style=\"text-align: right;\">\n",
       "      <th></th>\n",
       "      <th>derived_race</th>\n",
       "      <th>loan_amount</th>\n",
       "      <th>loan_to_value_ratio</th>\n",
       "      <th>property_value</th>\n",
       "      <th>income</th>\n",
       "      <th>debt_to_income_ratio</th>\n",
       "      <th>applicant_age</th>\n",
       "    </tr>\n",
       "  </thead>\n",
       "  <tbody>\n",
       "    <tr>\n",
       "      <th>0</th>\n",
       "      <td>White</td>\n",
       "      <td>185000.0</td>\n",
       "      <td>95.000</td>\n",
       "      <td>195000</td>\n",
       "      <td>78.0</td>\n",
       "      <td>47.0</td>\n",
       "      <td>39.5</td>\n",
       "    </tr>\n",
       "    <tr>\n",
       "      <th>1</th>\n",
       "      <td>White</td>\n",
       "      <td>415000.0</td>\n",
       "      <td>95.000</td>\n",
       "      <td>435000</td>\n",
       "      <td>194.0</td>\n",
       "      <td>47.0</td>\n",
       "      <td>49.5</td>\n",
       "    </tr>\n",
       "    <tr>\n",
       "      <th>2</th>\n",
       "      <td>White</td>\n",
       "      <td>245000.0</td>\n",
       "      <td>99.000</td>\n",
       "      <td>255000</td>\n",
       "      <td>45.0</td>\n",
       "      <td>46.0</td>\n",
       "      <td>29.5</td>\n",
       "    </tr>\n",
       "    <tr>\n",
       "      <th>3</th>\n",
       "      <td>White</td>\n",
       "      <td>215000.0</td>\n",
       "      <td>81.081</td>\n",
       "      <td>255000</td>\n",
       "      <td>41.0</td>\n",
       "      <td>47.0</td>\n",
       "      <td>75.0</td>\n",
       "    </tr>\n",
       "    <tr>\n",
       "      <th>4</th>\n",
       "      <td>White</td>\n",
       "      <td>435000.0</td>\n",
       "      <td>80.000</td>\n",
       "      <td>545000</td>\n",
       "      <td>160.0</td>\n",
       "      <td>25.0</td>\n",
       "      <td>29.5</td>\n",
       "    </tr>\n",
       "  </tbody>\n",
       "</table>\n",
       "</div>"
      ],
      "text/plain": [
       "  derived_race  loan_amount  loan_to_value_ratio  property_value  income  \\\n",
       "0        White     185000.0               95.000          195000    78.0   \n",
       "1        White     415000.0               95.000          435000   194.0   \n",
       "2        White     245000.0               99.000          255000    45.0   \n",
       "3        White     215000.0               81.081          255000    41.0   \n",
       "4        White     435000.0               80.000          545000   160.0   \n",
       "\n",
       "   debt_to_income_ratio  applicant_age  \n",
       "0                  47.0           39.5  \n",
       "1                  47.0           49.5  \n",
       "2                  46.0           29.5  \n",
       "3                  47.0           75.0  \n",
       "4                  25.0           29.5  "
      ]
     },
     "metadata": {},
     "output_type": "display_data"
    }
   ],
   "source": [
    "data_balanced = data_balanced.drop(columns=[\"action_taken\"])\n",
    "display(data_balanced.head())\n"
   ]
  },
  {
   "cell_type": "code",
   "execution_count": 43,
   "id": "5e967e3c-da73-42df-8617-4f80fe1da807",
   "metadata": {},
   "outputs": [],
   "source": [
    "data_balanced.to_csv(\"(250)Dataset_for_LLM_synthetic.csv\", index=False)\n"
   ]
  }
 ],
 "metadata": {
  "kernelspec": {
   "display_name": "Python 3 (ipykernel)",
   "language": "python",
   "name": "python3"
  },
  "language_info": {
   "codemirror_mode": {
    "name": "ipython",
    "version": 3
   },
   "file_extension": ".py",
   "mimetype": "text/x-python",
   "name": "python",
   "nbconvert_exporter": "python",
   "pygments_lexer": "ipython3",
   "version": "3.12.3"
  }
 },
 "nbformat": 4,
 "nbformat_minor": 5
}
